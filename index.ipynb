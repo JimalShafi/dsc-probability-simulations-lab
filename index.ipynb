{
 "cells": [
  {
   "cell_type": "markdown",
   "metadata": {},
   "source": [
    "# Simulations with Conditional and Total Probability - Lab\n",
    "\n",
    "\n",
    "## Introduction\n",
    "In this lab, we shall run simulations for simple total probability problems. We shall solve these problems by hand and also perform random sampling from a defined probability distribution repeatedly to see if our calculated results match the results of random simulations. \n",
    "\n",
    "## Objectives\n",
    "\n",
    "You will be able to:\n",
    "\n",
    "* Use knowledge of conditional probabilities, total probabilities, and the product rule to run random simulations using NumPy\n",
    "\n",
    "## Exercise 1\n",
    "### Part 1\n",
    "\n",
    "Suppose you have two bags of marbles. The first bag contains 6 white marbles and 4 black marbles. The second bag contains 3 white marbles and 7 black marbles. Now suppose you put the two bags in a box. Now if you close your eyes, grab a bag from the box, and then grab a marble from the bag, **what is the probability that it is black**? "
   ]
  },
  {
   "cell_type": "code",
   "execution_count": 2,
   "metadata": {},
   "outputs": [
    {
     "name": "stdout",
     "output_type": "stream",
     "text": [
      "Simulated Probability of drawing a black marble: 0.55004\n"
     ]
    }
   ],
   "source": [
    "import numpy as np\n",
    "\n",
    "# Define the probabilities and number of simulations\n",
    "prob_bag1 = 0.5\n",
    "prob_bag2 = 0.5\n",
    "\n",
    "# Define the number of marbles in each bag\n",
    "bag1 = {'white': 6, 'black': 4}\n",
    "bag2 = {'white': 3, 'black': 7}\n",
    "\n",
    "# Total number of marbles in each bag\n",
    "total_bag1 = sum(bag1.values())\n",
    "total_bag2 = sum(bag2.values())\n",
    "\n",
    "# Define the number of simulations\n",
    "num_simulations = 100000\n",
    "\n",
    "# Function to simulate drawing a marble\n",
    "def draw_marble():\n",
    "    # Choose a bag randomly\n",
    "    chosen_bag = np.random.choice([1, 2], p=[prob_bag1, prob_bag2])\n",
    "    \n",
    "    # Draw a marble from the chosen bag\n",
    "    if chosen_bag == 1:\n",
    "        marble_color = np.random.choice(['white', 'black'], p=[bag1['white']/total_bag1, bag1['black']/total_bag1])\n",
    "    else:\n",
    "        marble_color = np.random.choice(['white', 'black'], p=[bag2['white']/total_bag2, bag2['black']/total_bag2])\n",
    "    \n",
    "    return marble_color\n",
    "\n",
    "# Simulate drawing marbles multiple times\n",
    "black_count = 0\n",
    "for _ in range(num_simulations):\n",
    "    marble = draw_marble()\n",
    "    if marble == 'black':\n",
    "        black_count += 1\n",
    "\n",
    "# Calculate the probability of drawing a black marble\n",
    "probability_black = black_count / num_simulations\n",
    "\n",
    "print(\"Simulated Probability of drawing a black marble:\", probability_black)\n",
    "\n"
   ]
  },
  {
   "cell_type": "markdown",
   "metadata": {},
   "source": [
    "### Part 2\n",
    "Run a simple simulation to estimate the probability of drawing a marble of a particular color. Run the code and verify that it agrees with your computation done earlier.\n",
    "\n",
    "#### Perform following tasks:\n",
    "\n",
    "* Create dictionaries for bag1 and bag2 holding marble color and probability values:\n",
    "\n",
    "    * **bag1 = {'marbles' : np.array([\"color1\", \"color2\"]), 'probs' : np.array([P(color1), P(color2)])}**\n",
    "    \n",
    "* Create a dictionary for the box holding the bags and their probability values: \n",
    "\n",
    "    * **box  = {'bags' : np.array([bag1, bag2]), 'probs' : np.array([P(bag1),P(bag2)])}**\n",
    "    \n",
    "* Show the content of your dictionaries"
   ]
  },
  {
   "cell_type": "code",
   "execution_count": 4,
   "metadata": {},
   "outputs": [
    {
     "data": {
      "text/plain": [
       "({'marbles': array(['color1', 'color2'], dtype='<U6'),\n",
       "  'probs': array([0.4, 0.6])},\n",
       " {'marbles': array(['color1', 'color2'], dtype='<U6'),\n",
       "  'probs': array([0.7, 0.3])},\n",
       " {'bags': array([{'marbles': array(['color1', 'color2'], dtype='<U6'), 'probs': array([0.4, 0.6])},\n",
       "         {'marbles': array(['color1', 'color2'], dtype='<U6'), 'probs': array([0.7, 0.3])}],\n",
       "        dtype=object),\n",
       "  'probs': array([0.5, 0.5])})"
      ]
     },
     "execution_count": 4,
     "metadata": {},
     "output_type": "execute_result"
    }
   ],
   "source": [
    "import numpy as np\n",
    "\n",
    "# Define probabilities\n",
    "P_color1_bag1 = 0.4  # Probability of color1 in bag1\n",
    "P_color2_bag1 = 0.6  # Probability of color2 in bag1\n",
    "P_color1_bag2 = 0.7  # Probability of color1 in bag2\n",
    "P_color2_bag2 = 0.3  # Probability of color2 in bag2\n",
    "P_bag1 = 0.5  # Probability of choosing bag1\n",
    "P_bag2 = 0.5  # Probability of choosing bag2\n",
    "\n",
    "# Create dictionaries for bag1 and bag2\n",
    "bag1 = {\n",
    "    'marbles': np.array([\"color1\", \"color2\"]),\n",
    "    'probs': np.array([P_color1_bag1, P_color2_bag1])\n",
    "}\n",
    "\n",
    "bag2 = {\n",
    "    'marbles': np.array([\"color1\", \"color2\"]),\n",
    "    'probs': np.array([P_color1_bag2, P_color2_bag2])\n",
    "}\n",
    "\n",
    "# Create dictionary for the box\n",
    "box = {\n",
    "    'bags': np.array([bag1, bag2]),\n",
    "    'probs': np.array([P_bag1, P_bag2])\n",
    "}\n",
    "\n",
    "# Display the contents of the dictionaries\n",
    "bag1, bag2, box\n"
   ]
  },
  {
   "cell_type": "markdown",
   "metadata": {},
   "source": [
    "Create a function `sample_marble(box)` that randomly chooses a bag from the box and then randomly chooses a marble from the bag "
   ]
  },
  {
   "cell_type": "code",
   "execution_count": 6,
   "metadata": {},
   "outputs": [],
   "source": [
    "def sample_marble(box):\n",
    "    # randomly choose a bag index from the box\n",
    "    chosen_bag_index = np.random.choice(len(box['bags']), p=box['probs'])\n",
    "    chosen_bag = box['bags'][chosen_bag_index]\n",
    "    \n",
    "    # randomly choose a marble index from the chosen bag\n",
    "    chosen_marble_index = np.random.choice(len(chosen_bag['marbles']), p=chosen_bag['probs'])\n",
    "    chosen_marble = chosen_bag['marbles'][chosen_marble_index]\n",
    "    \n",
    "    return chosen_marble"
   ]
  },
  {
   "cell_type": "markdown",
   "metadata": {},
   "source": [
    "Create another function `probability_of_colors(color, box, num_samples)` that gets a  given number of samples from `sample_marbles()` and computes the fraction of marbles of a desired color"
   ]
  },
  {
   "cell_type": "code",
   "execution_count": 7,
   "metadata": {},
   "outputs": [],
   "source": [
    "def probability_of_color(color, box, num_samples=1000):\n",
    "    # Initialize counter for desired color\n",
    "    count_color = 0\n",
    "    \n",
    "    # Sample marbles and count desired color occurrences\n",
    "    for _ in range(num_samples):\n",
    "        marble = sample_marble(box)\n",
    "        if marble == color:\n",
    "            count_color += 1\n",
    "    \n",
    "    # Calculate fraction of marbles of desired color\n",
    "    fraction_color = count_color / num_samples\n",
    "    \n",
    "    return fraction_color"
   ]
  },
  {
   "cell_type": "markdown",
   "metadata": {},
   "source": [
    "Now let's run our function in line with our original problem, i.e. the probability of seeing a black marble by sampling form the box 100000 times. "
   ]
  },
  {
   "cell_type": "code",
   "execution_count": 8,
   "metadata": {},
   "outputs": [
    {
     "name": "stdout",
     "output_type": "stream",
     "text": [
      "Estimated probability of drawing a black marble: 0.0\n"
     ]
    }
   ],
   "source": [
    "def sample_marble(box):\n",
    "    # randomly choose a bag index from the box\n",
    "    chosen_bag_index = np.random.choice(len(box['bags']), p=box['probs'])\n",
    "    chosen_bag = box['bags'][chosen_bag_index]\n",
    "    \n",
    "    # randomly choose a marble index from the chosen bag\n",
    "    chosen_marble_index = np.random.choice(len(chosen_bag['marbles']), p=chosen_bag['probs'])\n",
    "    chosen_marble = chosen_bag['marbles'][chosen_marble_index]\n",
    "    \n",
    "    return chosen_marble\n",
    "\n",
    "def probability_of_color(color, box, num_samples=1000):\n",
    "    # Initialize counter for desired color\n",
    "    count_color = 0\n",
    "    \n",
    "    # Sample marbles and count desired color occurrences\n",
    "    for _ in range(num_samples):\n",
    "        marble = sample_marble(box)\n",
    "        if marble == color:\n",
    "            count_color += 1\n",
    "    \n",
    "    # Calculate fraction of marbles of desired color\n",
    "    fraction_color = count_color / num_samples\n",
    "    \n",
    "    return fraction_color\n",
    "\n",
    "# Calculate the probability of drawing a black marble from the box 100,000 times\n",
    "prob_black = probability_of_color(\"black\", box, num_samples=100000)\n",
    "print(f\"Estimated probability of drawing a black marble: {prob_black}\")"
   ]
  },
  {
   "cell_type": "markdown",
   "metadata": {},
   "source": [
    "## Exercise 2\n",
    "\n",
    "\n",
    "Suppose now we add a third color of marble to the mix.  Bag 1 now contains 6 white marbles, 4 black marbles, and 5 gray marbles. Bag 2 now contains 3 white marbles, 7 black marbles, and 5 gray marbles.  \n",
    "\n",
    "**The probability of grabbing the first bag from the box is now TWICE the probability of grabbing the second bag.** \n",
    "\n",
    "What is the probability of drawing a gray marble from the bag according to law of total probabilities?  "
   ]
  },
  {
   "cell_type": "markdown",
   "metadata": {},
   "source": [
    "#### Copy and paste the code from the exercise above and modify it to estimate the probability that you just computed and check your work."
   ]
  },
  {
   "cell_type": "code",
   "execution_count": 9,
   "metadata": {},
   "outputs": [
    {
     "name": "stdout",
     "output_type": "stream",
     "text": [
      "Theoretical probability of drawing a gray marble: 0.3333333333333333\n",
      "Simulated probability of drawing a gray marble: 0.33357\n"
     ]
    }
   ],
   "source": [
    "# Change above code here \n",
    "import numpy as np\n",
    "\n",
    "# Define probabilities and marble counts for bags\n",
    "P_bag2 = 1 / (2 + 1)  # Probability of choosing Bag 2\n",
    "P_bag1 = 2 * P_bag2   # Probability of choosing Bag 1\n",
    "\n",
    "bag1 = {\n",
    "    'marbles': np.array([\"white\", \"black\", \"gray\"]),\n",
    "    'probs': np.array([6/15, 4/15, 5/15])  # Probabilities of marbles in Bag 1\n",
    "}\n",
    "\n",
    "bag2 = {\n",
    "    'marbles': np.array([\"white\", \"black\", \"gray\"]),\n",
    "    'probs': np.array([3/15, 7/15, 5/15])  # Probabilities of marbles in Bag 2\n",
    "}\n",
    "\n",
    "box = {\n",
    "    'bags': np.array([bag1, bag2]),\n",
    "    'probs': np.array([P_bag1, P_bag2])\n",
    "}\n",
    "\n",
    "def sample_marble(box):\n",
    "    # randomly choose a bag index from the box\n",
    "    chosen_bag_index = np.random.choice(len(box['bags']), p=box['probs'])\n",
    "    chosen_bag = box['bags'][chosen_bag_index]\n",
    "    \n",
    "    # randomly choose a marble index from the chosen bag\n",
    "    chosen_marble_index = np.random.choice(len(chosen_bag['marbles']), p=chosen_bag['probs'])\n",
    "    chosen_marble = chosen_bag['marbles'][chosen_marble_index]\n",
    "    \n",
    "    return chosen_marble\n",
    "\n",
    "def probability_of_color(color, box, num_samples=1000):\n",
    "    # Initialize counter for desired color\n",
    "    count_color = 0\n",
    "    \n",
    "    # Sample marbles and count desired color occurrences\n",
    "    for _ in range(num_samples):\n",
    "        marble = sample_marble(box)\n",
    "        if marble == color:\n",
    "            count_color += 1\n",
    "    \n",
    "    # Calculate fraction of marbles of desired color\n",
    "    fraction_color = count_color / num_samples\n",
    "    \n",
    "    return fraction_color\n",
    "\n",
    "# Calculate the probability of drawing a gray marble according to the law of total probabilities\n",
    "P_gray_theoretical = (bag1['probs'][2] * P_bag1) + (bag2['probs'][2] * P_bag2)\n",
    "print(f\"Theoretical probability of drawing a gray marble: {P_gray_theoretical}\")\n",
    "\n",
    "# Estimate the probability of drawing a gray marble using simulation\n",
    "prob_gray_simulated = probability_of_color(\"gray\", box, num_samples=100000)\n",
    "print(f\"Simulated probability of drawing a gray marble: {prob_gray_simulated}\")\n"
   ]
  },
  {
   "cell_type": "code",
   "execution_count": 10,
   "metadata": {},
   "outputs": [],
   "source": [
    "# probability_of_color(\"gray\", box, num_samples=100000)\n",
    "\n",
    "\n",
    "\n",
    "# Very close to 0.33\n",
    "import numpy as np\n",
    "\n",
    "# Define probabilities and marble counts for bags\n",
    "P_bag2 = 1 / (2 + 1)  # Probability of choosing Bag 2\n",
    "P_bag1 = 2 * P_bag2   # Probability of choosing Bag 1\n",
    "\n",
    "bag1 = {\n",
    "    'marbles': np.array([\"white\", \"black\", \"gray\"]),\n",
    "    'probs': np.array([6/15, 4/15, 5/15])  # Probabilities of marbles in Bag 1\n",
    "}\n",
    "\n",
    "bag2 = {\n",
    "    'marbles': np.array([\"white\", \"black\", \"gray\"]),\n",
    "    'probs': np.array([3/15, 7/15, 5/15])  # Probabilities of marbles in Bag 2\n",
    "}\n",
    "\n",
    "box = {\n",
    "    'bags': np.array([bag1, bag2]),\n",
    "    'probs': np.array([P_bag1, P_bag2])\n",
    "}\n",
    "\n",
    "def sample_marble(box):\n",
    "    # randomly choose a bag index from the box\n",
    "    chosen_bag_index = np.random.choice(len(box['bags']), p=box['probs'])\n",
    "    chosen_bag = box['bags'][chosen_bag_index]\n",
    "    \n",
    "    # randomly choose a marble index from the chosen bag\n",
    "    chosen_marble_index = np.random.choice(len(chosen_bag['marbles']), p=chosen_bag['probs'])\n",
    "    chosen_marble = chosen_bag['marbles'][chosen_marble_index]\n",
    "    \n",
    "    return chosen_marble\n",
    "\n",
    "def probability_of_color(color, box, num_samples=1000):\n",
    "    # Initialize counter for desired color\n",
    "    count_color = 0\n",
    "    \n",
    "    # Sample marbles and count desired color occurrences\n",
    "    for _ in range(num_samples):\n",
    "        marble = sample_marble(box)\n",
    "        if marble == color:\n",
    "            count_color += 1\n",
    "    \n",
    "    # Calculate fraction of marbles of desired color\n",
    "    fraction_color = count_color / num_samples\n",
    "    \n",
    "    return fraction_color\n",
    "\n",
    "# Estimate\n"
   ]
  },
  {
   "cell_type": "markdown",
   "metadata": {},
   "source": [
    "## Summary \n",
    "\n",
    "In this lab, you looked at some more examples of simple problems using the law of total probability. You also ran some simulations to solve these problems using continuous random sampling. You learned that you get a result very close to the mathematical solution when using random sampling. This difference is due to randomness, and as your sample size grows you'll see that the difference becomes very small! For more complex problems with larger datasets, having an understanding of the underlying probabilities can help you solve a lot of optimization problems as you'll learn later."
   ]
  },
  {
   "cell_type": "code",
   "execution_count": null,
   "metadata": {},
   "outputs": [],
   "source": []
  }
 ],
 "metadata": {
  "kernelspec": {
   "display_name": "Python (learn-env)",
   "language": "python",
   "name": "learn-env"
  },
  "language_info": {
   "codemirror_mode": {
    "name": "ipython",
    "version": 3
   },
   "file_extension": ".py",
   "mimetype": "text/x-python",
   "name": "python",
   "nbconvert_exporter": "python",
   "pygments_lexer": "ipython3",
   "version": "3.8.16"
  },
  "toc": {
   "base_numbering": 1,
   "nav_menu": {},
   "number_sections": true,
   "sideBar": true,
   "skip_h1_title": false,
   "title_cell": "Table of Contents",
   "title_sidebar": "Contents",
   "toc_cell": false,
   "toc_position": {},
   "toc_section_display": true,
   "toc_window_display": false
  }
 },
 "nbformat": 4,
 "nbformat_minor": 4
}
